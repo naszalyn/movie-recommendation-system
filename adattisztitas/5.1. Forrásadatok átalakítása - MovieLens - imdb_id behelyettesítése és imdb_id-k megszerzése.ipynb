{
 "cells": [
  {
   "cell_type": "code",
   "execution_count": null,
   "id": "bd090333",
   "metadata": {},
   "outputs": [],
   "source": [
    "#MovieLens értékelések átalakítása\n",
    "\n",
    "#links.csv: movieId és imdbId mező összerendelések\n",
    "#ratings.csv: userId, movieId és rating\n",
    "\n",
    "#----------CÉL:\n",
    "#ratings-ben kicserélni a movieId-t imdbId-ra"
   ]
  },
  {
   "cell_type": "code",
   "execution_count": 1,
   "id": "a4d86c36",
   "metadata": {},
   "outputs": [
    {
     "name": "stdout",
     "output_type": "stream",
     "text": [
      "       movieId   imdbId\n",
      "0            1   114709\n",
      "1            2   113497\n",
      "2            3   113228\n",
      "3            4   114885\n",
      "4            5   113041\n",
      "...        ...      ...\n",
      "58093   193876    38566\n",
      "58094   193878  1754787\n",
      "58095   193880  5847740\n",
      "58096   193882  4453756\n",
      "58097   193886  7606620\n",
      "\n",
      "[58098 rows x 2 columns]\n"
     ]
    }
   ],
   "source": [
    "#csv-k beolvasása\n",
    "import pandas as pd\n",
    "links = pd.read_csv('links.csv', usecols=['movieId', 'imdbId'])\n",
    "print(links)"
   ]
  },
  {
   "cell_type": "code",
   "execution_count": 2,
   "id": "6526f87a",
   "metadata": {},
   "outputs": [
    {
     "name": "stdout",
     "output_type": "stream",
     "text": [
      "          userId  movieId  rating\n",
      "0              1      307     3.5\n",
      "1              1      481     3.5\n",
      "2              1     1091     1.5\n",
      "3              1     1257     4.5\n",
      "4              1     1449     4.5\n",
      "...          ...      ...     ...\n",
      "27753439  283228     8542     4.5\n",
      "27753440  283228     8712     4.5\n",
      "27753441  283228    34405     4.5\n",
      "27753442  283228    44761     4.5\n",
      "27753443  283228    54286     4.5\n",
      "\n",
      "[27753444 rows x 3 columns]\n"
     ]
    }
   ],
   "source": [
    "ratings = pd.read_csv(\"ratings.csv\", usecols=['userId', 'movieId', 'rating'])\n",
    "print(ratings)"
   ]
  },
  {
   "cell_type": "code",
   "execution_count": 3,
   "id": "ec077a2d",
   "metadata": {},
   "outputs": [
    {
     "name": "stdout",
     "output_type": "stream",
     "text": [
      "          userId  movieId  rating  imdbId\n",
      "0              1      307     3.5  108394\n",
      "1              1      481     3.5  107302\n",
      "2              1     1091     1.5   98627\n",
      "3              1     1257     4.5   88794\n",
      "4              1     1449     4.5  118111\n",
      "...          ...      ...     ...     ...\n",
      "27753439  283228     8542     4.5   28772\n",
      "27753440  283228     8712     4.5   29284\n",
      "27753441  283228    34405     4.5  379786\n",
      "27753442  283228    44761     4.5  393109\n",
      "27753443  283228    54286     4.5  440963\n",
      "\n",
      "[27753444 rows x 4 columns]\n"
     ]
    }
   ],
   "source": [
    "#lookup, az ID behelyettesítése\n",
    "ratings['imdbId'] = ratings['movieId'].map(links.set_index('movieId')['imdbId'])\n",
    "print(ratings)"
   ]
  },
  {
   "cell_type": "code",
   "execution_count": 4,
   "id": "0d01c6bb",
   "metadata": {},
   "outputs": [
    {
     "data": {
      "text/html": [
       "<div>\n",
       "<style scoped>\n",
       "    .dataframe tbody tr th:only-of-type {\n",
       "        vertical-align: middle;\n",
       "    }\n",
       "\n",
       "    .dataframe tbody tr th {\n",
       "        vertical-align: top;\n",
       "    }\n",
       "\n",
       "    .dataframe thead th {\n",
       "        text-align: right;\n",
       "    }\n",
       "</style>\n",
       "<table border=\"1\" class=\"dataframe\">\n",
       "  <thead>\n",
       "    <tr style=\"text-align: right;\">\n",
       "      <th></th>\n",
       "      <th>userId</th>\n",
       "      <th>imdbId</th>\n",
       "      <th>rating</th>\n",
       "    </tr>\n",
       "  </thead>\n",
       "  <tbody>\n",
       "    <tr>\n",
       "      <th>0</th>\n",
       "      <td>1</td>\n",
       "      <td>108394</td>\n",
       "      <td>3.5</td>\n",
       "    </tr>\n",
       "    <tr>\n",
       "      <th>1</th>\n",
       "      <td>1</td>\n",
       "      <td>107302</td>\n",
       "      <td>3.5</td>\n",
       "    </tr>\n",
       "    <tr>\n",
       "      <th>2</th>\n",
       "      <td>1</td>\n",
       "      <td>98627</td>\n",
       "      <td>1.5</td>\n",
       "    </tr>\n",
       "    <tr>\n",
       "      <th>3</th>\n",
       "      <td>1</td>\n",
       "      <td>88794</td>\n",
       "      <td>4.5</td>\n",
       "    </tr>\n",
       "    <tr>\n",
       "      <th>4</th>\n",
       "      <td>1</td>\n",
       "      <td>118111</td>\n",
       "      <td>4.5</td>\n",
       "    </tr>\n",
       "    <tr>\n",
       "      <th>...</th>\n",
       "      <td>...</td>\n",
       "      <td>...</td>\n",
       "      <td>...</td>\n",
       "    </tr>\n",
       "    <tr>\n",
       "      <th>27753439</th>\n",
       "      <td>283228</td>\n",
       "      <td>28772</td>\n",
       "      <td>4.5</td>\n",
       "    </tr>\n",
       "    <tr>\n",
       "      <th>27753440</th>\n",
       "      <td>283228</td>\n",
       "      <td>29284</td>\n",
       "      <td>4.5</td>\n",
       "    </tr>\n",
       "    <tr>\n",
       "      <th>27753441</th>\n",
       "      <td>283228</td>\n",
       "      <td>379786</td>\n",
       "      <td>4.5</td>\n",
       "    </tr>\n",
       "    <tr>\n",
       "      <th>27753442</th>\n",
       "      <td>283228</td>\n",
       "      <td>393109</td>\n",
       "      <td>4.5</td>\n",
       "    </tr>\n",
       "    <tr>\n",
       "      <th>27753443</th>\n",
       "      <td>283228</td>\n",
       "      <td>440963</td>\n",
       "      <td>4.5</td>\n",
       "    </tr>\n",
       "  </tbody>\n",
       "</table>\n",
       "<p>27753444 rows × 3 columns</p>\n",
       "</div>"
      ],
      "text/plain": [
       "          userId  imdbId  rating\n",
       "0              1  108394     3.5\n",
       "1              1  107302     3.5\n",
       "2              1   98627     1.5\n",
       "3              1   88794     4.5\n",
       "4              1  118111     4.5\n",
       "...          ...     ...     ...\n",
       "27753439  283228   28772     4.5\n",
       "27753440  283228   29284     4.5\n",
       "27753441  283228  379786     4.5\n",
       "27753442  283228  393109     4.5\n",
       "27753443  283228  440963     4.5\n",
       "\n",
       "[27753444 rows x 3 columns]"
      ]
     },
     "execution_count": 4,
     "metadata": {},
     "output_type": "execute_result"
    }
   ],
   "source": [
    "#csak a szüséges oszlopok (userId, imdbId, rating)\n",
    "df1 = ratings[['userId', 'imdbId', 'rating']]\n",
    "df1"
   ]
  },
  {
   "cell_type": "code",
   "execution_count": 5,
   "id": "4eb3d6e3",
   "metadata": {},
   "outputs": [],
   "source": [
    "#imdbId kiegészítése, hogy 7 karakter hosszú legyen\n",
    "correct_imdbIds = []\n",
    "\n",
    "for i in df1['imdbId']:\n",
    "    x = \"{:>07}\".format(str(i))\n",
    "    correct_imdbIds.append(x)"
   ]
  },
  {
   "cell_type": "code",
   "execution_count": 6,
   "id": "8a637141",
   "metadata": {},
   "outputs": [
    {
     "name": "stderr",
     "output_type": "stream",
     "text": [
      "<ipython-input-6-1ae41f25f489>:1: SettingWithCopyWarning: \n",
      "A value is trying to be set on a copy of a slice from a DataFrame.\n",
      "Try using .loc[row_indexer,col_indexer] = value instead\n",
      "\n",
      "See the caveats in the documentation: https://pandas.pydata.org/pandas-docs/stable/user_guide/indexing.html#returning-a-view-versus-a-copy\n",
      "  df1['imdbId'] = correct_imdbIds\n"
     ]
    }
   ],
   "source": [
    "df1['imdbId'] = correct_imdbIds"
   ]
  },
  {
   "cell_type": "code",
   "execution_count": 7,
   "id": "b9088fe7",
   "metadata": {},
   "outputs": [
    {
     "name": "stderr",
     "output_type": "stream",
     "text": [
      "<ipython-input-7-23dcdf172018>:1: SettingWithCopyWarning: \n",
      "A value is trying to be set on a copy of a slice from a DataFrame.\n",
      "Try using .loc[row_indexer,col_indexer] = value instead\n",
      "\n",
      "See the caveats in the documentation: https://pandas.pydata.org/pandas-docs/stable/user_guide/indexing.html#returning-a-view-versus-a-copy\n",
      "  df1['rating'] = df1['rating']*2\n"
     ]
    }
   ],
   "source": [
    "df1['rating'] = df1['rating']*2"
   ]
  },
  {
   "cell_type": "code",
   "execution_count": 8,
   "id": "e4172ce2",
   "metadata": {},
   "outputs": [
    {
     "data": {
      "text/html": [
       "<div>\n",
       "<style scoped>\n",
       "    .dataframe tbody tr th:only-of-type {\n",
       "        vertical-align: middle;\n",
       "    }\n",
       "\n",
       "    .dataframe tbody tr th {\n",
       "        vertical-align: top;\n",
       "    }\n",
       "\n",
       "    .dataframe thead th {\n",
       "        text-align: right;\n",
       "    }\n",
       "</style>\n",
       "<table border=\"1\" class=\"dataframe\">\n",
       "  <thead>\n",
       "    <tr style=\"text-align: right;\">\n",
       "      <th></th>\n",
       "      <th>userId</th>\n",
       "      <th>imdbId</th>\n",
       "      <th>rating</th>\n",
       "    </tr>\n",
       "  </thead>\n",
       "  <tbody>\n",
       "    <tr>\n",
       "      <th>0</th>\n",
       "      <td>1</td>\n",
       "      <td>0108394</td>\n",
       "      <td>7.0</td>\n",
       "    </tr>\n",
       "    <tr>\n",
       "      <th>1</th>\n",
       "      <td>1</td>\n",
       "      <td>0107302</td>\n",
       "      <td>7.0</td>\n",
       "    </tr>\n",
       "    <tr>\n",
       "      <th>2</th>\n",
       "      <td>1</td>\n",
       "      <td>0098627</td>\n",
       "      <td>3.0</td>\n",
       "    </tr>\n",
       "    <tr>\n",
       "      <th>3</th>\n",
       "      <td>1</td>\n",
       "      <td>0088794</td>\n",
       "      <td>9.0</td>\n",
       "    </tr>\n",
       "    <tr>\n",
       "      <th>4</th>\n",
       "      <td>1</td>\n",
       "      <td>0118111</td>\n",
       "      <td>9.0</td>\n",
       "    </tr>\n",
       "    <tr>\n",
       "      <th>...</th>\n",
       "      <td>...</td>\n",
       "      <td>...</td>\n",
       "      <td>...</td>\n",
       "    </tr>\n",
       "    <tr>\n",
       "      <th>27753439</th>\n",
       "      <td>283228</td>\n",
       "      <td>0028772</td>\n",
       "      <td>9.0</td>\n",
       "    </tr>\n",
       "    <tr>\n",
       "      <th>27753440</th>\n",
       "      <td>283228</td>\n",
       "      <td>0029284</td>\n",
       "      <td>9.0</td>\n",
       "    </tr>\n",
       "    <tr>\n",
       "      <th>27753441</th>\n",
       "      <td>283228</td>\n",
       "      <td>0379786</td>\n",
       "      <td>9.0</td>\n",
       "    </tr>\n",
       "    <tr>\n",
       "      <th>27753442</th>\n",
       "      <td>283228</td>\n",
       "      <td>0393109</td>\n",
       "      <td>9.0</td>\n",
       "    </tr>\n",
       "    <tr>\n",
       "      <th>27753443</th>\n",
       "      <td>283228</td>\n",
       "      <td>0440963</td>\n",
       "      <td>9.0</td>\n",
       "    </tr>\n",
       "  </tbody>\n",
       "</table>\n",
       "<p>27753444 rows × 3 columns</p>\n",
       "</div>"
      ],
      "text/plain": [
       "          userId   imdbId  rating\n",
       "0              1  0108394     7.0\n",
       "1              1  0107302     7.0\n",
       "2              1  0098627     3.0\n",
       "3              1  0088794     9.0\n",
       "4              1  0118111     9.0\n",
       "...          ...      ...     ...\n",
       "27753439  283228  0028772     9.0\n",
       "27753440  283228  0029284     9.0\n",
       "27753441  283228  0379786     9.0\n",
       "27753442  283228  0393109     9.0\n",
       "27753443  283228  0440963     9.0\n",
       "\n",
       "[27753444 rows x 3 columns]"
      ]
     },
     "execution_count": 8,
     "metadata": {},
     "output_type": "execute_result"
    }
   ],
   "source": [
    "df1"
   ]
  },
  {
   "cell_type": "code",
   "execution_count": 9,
   "id": "9a92eb19",
   "metadata": {},
   "outputs": [],
   "source": [
    "#csv exportálás\n",
    "df1.to_csv('transformed_ratings.csv', index=False, header= False)"
   ]
  },
  {
   "cell_type": "code",
   "execution_count": null,
   "id": "59218672",
   "metadata": {},
   "outputs": [],
   "source": [
    "############"
   ]
  },
  {
   "cell_type": "code",
   "execution_count": 10,
   "id": "79a6869a",
   "metadata": {},
   "outputs": [],
   "source": [
    "#szükséges imdbId-k --> ez alapján szerzem be a filmadatokat\n",
    "imdb_ids = []\n",
    "for i in links['imdbId']:\n",
    "    x = \"{:>07}\".format(str(i))\n",
    "    imdb_ids.append(x)"
   ]
  },
  {
   "cell_type": "code",
   "execution_count": 11,
   "id": "7264b2ed",
   "metadata": {},
   "outputs": [],
   "source": [
    "imdb_ids=pd.DataFrame(imdb_ids)"
   ]
  },
  {
   "cell_type": "code",
   "execution_count": 12,
   "id": "8a731cb8",
   "metadata": {},
   "outputs": [],
   "source": [
    "imdb_ids.to_csv('imdb_ids.csv', index=False, header=False)"
   ]
  }
 ],
 "metadata": {
  "kernelspec": {
   "display_name": "Python 3",
   "language": "python",
   "name": "python3"
  },
  "language_info": {
   "codemirror_mode": {
    "name": "ipython",
    "version": 3
   },
   "file_extension": ".py",
   "mimetype": "text/x-python",
   "name": "python",
   "nbconvert_exporter": "python",
   "pygments_lexer": "ipython3",
   "version": "3.8.8"
  }
 },
 "nbformat": 4,
 "nbformat_minor": 5
}
